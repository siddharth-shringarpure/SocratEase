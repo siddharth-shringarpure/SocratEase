{
 "cells": [
  {
   "cell_type": "code",
   "execution_count": 37,
   "id": "a1b39246-cde0-48a5-a17c-185066a775aa",
   "metadata": {},
   "outputs": [],
   "source": [
    "filler_words = [\n",
    "    \"um\", \"uh\", \"like\", \"you know\", \"well\", \"so\", \"actually\", \"basically\", \"i mean\", \n",
    "    \"right\", \"okay\", \"er\", \"hmm\", \"literally\", \"anyway\", \"of course\", \"i guess\", \n",
    "    \"in other words\", \"obviously\", \"to be honest\", \"just\", \"seriously\", \"you see\", \n",
    "    \"i suppose\", \"frankly\", \"well, i mean\", \"at the end of the day\", \"to tell the truth\", \n",
    "    \"as it were\", \"kind of\", \"sort of\", \"in a way\", \"that is\", \"as a matter of fact\", \n",
    "    \"in fact\", \"like i said\", \"more or less\", \"i don't know\", \"basically speaking\", \n",
    "    \"for sure\", \"you could say\", \"the thing is\", \"it s like\", \"put it another way\", \n",
    "    \"at least\", \"as such\", \"well you know\", \"i would say\", \"truth be told\", \"yeah\", \"and yeah\",\n",
    "    \"um yeah\", \"um no\", \"um right\", \"like literally\", \"to\", \"erm\", \"let s see\", \"hm\", \"maybe\",\n",
    "    \"maybe like\"\n",
    "]"
   ]
  },
  {
   "cell_type": "code",
   "execution_count": 38,
   "id": "b84a3785-9825-4e6f-a433-7ac2cafd459a",
   "metadata": {},
   "outputs": [],
   "source": [
    "import re\n",
    "from itertools import tee, islice"
   ]
  },
  {
   "cell_type": "code",
   "execution_count": 39,
   "id": "24496647-5925-4265-b9bf-d3513caa2cbe",
   "metadata": {},
   "outputs": [],
   "source": [
    "def ngrams(words, n):\n",
    "    # Create n-grams from the list of words\n",
    "    output = []  \n",
    "    for i in range(len(words)- n+1):\n",
    "        output.append(' '.join(words[i:i + n]))\n",
    "    print(output)\n",
    "    return output\n",
    "\n",
    "def count_filler_words(sentence, filler_words):\n",
    "    words = re.findall(r'\\b\\w+\\b', sentence.lower())\n",
    "    print(words)\n",
    "    count = 0\n",
    "    \n",
    "    count += sum(1 for word in words if word in filler_words)\n",
    "    \n",
    "    bigrams = ngrams(words, 2)\n",
    "    count += sum(1 for bigram in bigrams if bigram in filler_words)\n",
    "    \n",
    "    trigrams = ngrams(words, 3)\n",
    "    count += sum(1 for trigram in trigrams if trigram in filler_words)\n",
    "    \n",
    "    quadgrams = ngrams(words, 4)\n",
    "    count += sum(1 for quadgram in quadgrams if quadgram in filler_words)\n",
    "    \n",
    "    return count"
   ]
  },
  {
   "cell_type": "code",
   "execution_count": 42,
   "id": "21bd4d8c-6897-405c-82db-ce7ca3c0a5dd",
   "metadata": {},
   "outputs": [
    {
     "name": "stdout",
     "output_type": "stream",
     "text": [
      "['well', 'i', 'mean', 'i', 'don', 't', 'know', 'what', 'to', 'do', 'you', 'know']\n",
      "['well i', 'i mean', 'mean i', 'i don', 'don t', 't know', 'know what', 'what to', 'to do', 'do you', 'you know']\n",
      "['well i mean', 'i mean i', 'mean i don', 'i don t', 'don t know', 't know what', 'know what to', 'what to do', 'to do you', 'do you know']\n",
      "['well i mean i', 'i mean i don', 'mean i don t', 'i don t know', 'don t know what', 't know what to', 'know what to do', 'what to do you', 'to do you know']\n",
      "Filler words count: 4\n"
     ]
    }
   ],
   "source": [
    "# Example sentence\n",
    "sentence = \"Well, I mean, I don't know what to do, you know?\"\n",
    "sentence2 = \"I mean, it's kind of like, well, I suppose this is an example.\"\n",
    "sentence3 = \"Of course it is a bad idea, like it wouldn't fit to our plan\"\n",
    "sentence4 = \"So this python piece of shit is just being annoying. It can go fucking kill itself. Um, yeah, you're right. Yeah, I'm having issues with type errors all over the place, with list indices being integers or slices, not tuffles. I don't know. Vibe coding doesn't really work very well in this situation.\"\n",
    "# Count filler words in the sentence\n",
    "count = count_filler_words(sentence, filler_words)\n",
    "print(f\"Filler words count: {count}\")\n"
   ]
  },
  {
   "cell_type": "code",
   "execution_count": null,
   "id": "0e9d8456-f782-4131-a869-eeae5a2aadd4",
   "metadata": {},
   "outputs": [],
   "source": []
  }
 ],
 "metadata": {
  "kernelspec": {
   "display_name": "Python 3 (ipykernel)",
   "language": "python",
   "name": "python3"
  },
  "language_info": {
   "codemirror_mode": {
    "name": "ipython",
    "version": 3
   },
   "file_extension": ".py",
   "mimetype": "text/x-python",
   "name": "python",
   "nbconvert_exporter": "python",
   "pygments_lexer": "ipython3",
   "version": "3.10.5"
  }
 },
 "nbformat": 4,
 "nbformat_minor": 5
}
