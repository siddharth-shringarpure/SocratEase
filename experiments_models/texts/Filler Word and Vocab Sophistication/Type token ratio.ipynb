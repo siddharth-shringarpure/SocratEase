{
 "cells": [
  {
   "cell_type": "code",
   "execution_count": 1,
   "id": "15a41506-0f94-4d0b-ab47-a365dbec0571",
   "metadata": {},
   "outputs": [],
   "source": [
    "import re\n",
    "\n",
    "def calculate_ttr(text):\n",
    "    words = re.findall(r'\\b\\w+\\b', text.lower())\n",
    "    \n",
    "    unique_words = set(words)\n",
    "\n",
    "    ttr = len(unique_words) / len(words)\n",
    "    return ttr"
   ]
  },
  {
   "cell_type": "code",
   "execution_count": 2,
   "id": "66ccbdf3-3355-44c0-84f2-10a5298fa80c",
   "metadata": {},
   "outputs": [
    {
     "data": {
      "text/plain": [
       "0.8035714285714286"
      ]
     },
     "execution_count": 2,
     "metadata": {},
     "output_type": "execute_result"
    }
   ],
   "source": [
    "text = \"The quick brown fox jumps over the lazy dog. It’s been a long day, hasn’t it? Sometimes, the simplest things bring the most joy, like a walk in the park or a good cup of coffee. I suppose that’s what we all need — a bit of peace and quiet. Don’t you agree?\"\n",
    "\n",
    "calculate_ttr(text)"
   ]
  },
  {
   "cell_type": "code",
   "execution_count": 3,
   "id": "774ded93-14f8-4e6d-8591-17c498d1b9e6",
   "metadata": {},
   "outputs": [
    {
     "data": {
      "text/plain": [
       "0.7105263157894737"
      ]
     },
     "execution_count": 3,
     "metadata": {},
     "output_type": "execute_result"
    }
   ],
   "source": [
    "text = \"The cat sat on the mat. It looked around and saw a bird in the tree. The cat liked to watch the birds. Sometimes, the bird flew away, and the cat would wait for another one to come.\"\n",
    "\n",
    "calculate_ttr(text)"
   ]
  },
  {
   "cell_type": "code",
   "execution_count": null,
   "id": "6d51718d-e328-4289-9680-3517347b0799",
   "metadata": {},
   "outputs": [],
   "source": []
  }
 ],
 "metadata": {
  "kernelspec": {
   "display_name": "Python 3 (ipykernel)",
   "language": "python",
   "name": "python3"
  },
  "language_info": {
   "codemirror_mode": {
    "name": "ipython",
    "version": 3
   },
   "file_extension": ".py",
   "mimetype": "text/x-python",
   "name": "python",
   "nbconvert_exporter": "python",
   "pygments_lexer": "ipython3",
   "version": "3.10.5"
  }
 },
 "nbformat": 4,
 "nbformat_minor": 5
}
