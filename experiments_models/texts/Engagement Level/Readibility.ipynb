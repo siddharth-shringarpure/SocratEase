{
 "cells": [
  {
   "cell_type": "code",
   "execution_count": 4,
   "id": "15e8fff7-6602-4881-b0df-80fae9e8d117",
   "metadata": {},
   "outputs": [],
   "source": [
    "from readability import Readability"
   ]
  },
  {
   "cell_type": "code",
   "execution_count": 16,
   "id": "ee468e74-323a-4981-bccd-cb757b0cbd16",
   "metadata": {},
   "outputs": [],
   "source": [
    "text = \"Reading is one of the most enjoyable activities you can do. It allows you to explore new worlds, ideas, and concepts without leaving your home. When you read a book, you can dive into a new adventure, meet interesting characters, and experience different emotions. Some people enjoy reading fiction, where stories are made up, while others prefer non-fiction, which teaches you about real things like history, science, or famous people. No matter what you read, it helps to improve your knowledge and understanding of the world around you, and it is always an enjoyable way to spend time.\"\n",
    "\n",
    "text3 = \"Language acquisition is a complex process that involves numerous cognitive and psychological factors. It is influenced by both innate abilities and environmental factors, including exposure to different languages, social interactions, and educational systems. While some aspects of language learning may seem universal, there are significant variations in how different cultures and societies approach language development. Researchers in fields such as linguistics, psychology, and neuroscience have explored the various stages of language acquisition, seeking to understand how individuals learn to comprehend and produce language. These studies aim to uncover the mechanisms behind our ability to communicate, which is essential for human interaction and societal function.\"\n",
    "r1 = Readability(text)\n",
    "\n",
    "r3 = Readability(text3)"
   ]
  },
  {
   "cell_type": "code",
   "execution_count": 22,
   "id": "fb146a5a-8805-4137-b2cb-138595b315a2",
   "metadata": {},
   "outputs": [],
   "source": [
    "# fk1 = r1.flesch_kincaid()\n",
    "# minimal 100 words\n",
    "fk3 = r3.gunning_fog()"
   ]
  },
  {
   "cell_type": "code",
   "execution_count": 23,
   "id": "09bbe415-71c8-484c-af03-9501962fc544",
   "metadata": {},
   "outputs": [
    {
     "name": "stdout",
     "output_type": "stream",
     "text": [
      "21.396923076923077\n"
     ]
    }
   ],
   "source": [
    "print(fk3.score)"
   ]
  },
  {
   "cell_type": "markdown",
   "id": "42017672-aca6-4515-8454-b2052feae498",
   "metadata": {},
   "source": [
    "**Score explanation:**\n",
    "\n",
    "Lower -> harder\n",
    "\n",
    "Higher -> easier"
   ]
  }
 ],
 "metadata": {
  "kernelspec": {
   "display_name": "Python 3 (ipykernel)",
   "language": "python",
   "name": "python3"
  },
  "language_info": {
   "codemirror_mode": {
    "name": "ipython",
    "version": 3
   },
   "file_extension": ".py",
   "mimetype": "text/x-python",
   "name": "python",
   "nbconvert_exporter": "python",
   "pygments_lexer": "ipython3",
   "version": "3.10.5"
  }
 },
 "nbformat": 4,
 "nbformat_minor": 5
}
